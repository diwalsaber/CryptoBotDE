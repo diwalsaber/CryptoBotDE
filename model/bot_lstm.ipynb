{
 "cells": [
  {
   "cell_type": "code",
   "execution_count": 3,
   "id": "f06929a0-e969-467b-b56e-5b45b352d9db",
   "metadata": {},
   "outputs": [],
   "source": [
    "import pandas as pd\n",
    "import psycopg2 as pg"
   ]
  },
  {
   "cell_type": "code",
   "execution_count": 5,
   "id": "7f189305-0baa-4fc4-b7d7-49e3667d7fa4",
   "metadata": {},
   "outputs": [
    {
     "name": "stderr",
     "output_type": "stream",
     "text": [
      "/var/folders/ft/cwqv3r3573s0k_nw65ltwg5w0000gn/T/ipykernel_97870/2190462861.py:2: UserWarning: pandas only supports SQLAlchemy connectable (engine/connection) or database string URI or sqlite3 DBAPI2 connection. Other DBAPI2 objects are not tested. Please consider using SQLAlchemy.\n",
      "  df = pd.read_sql_query('''\n"
     ]
    }
   ],
   "source": [
    "with pg.connect(host='localhost', port=5432, dbname='postgres', user='postgres', password='postgres') as connection:\n",
    "    df = pd.read_sql_query('''\n",
    "    SELECT time_bucket('5 minutes', opentime) open_time,\n",
    "    first(openprice, opentime) opentime,\n",
    "    max(highprice) highprice,\n",
    "    min(lowprice) low_price,\n",
    "    last(closeprice, closetime) close_price,\n",
    "    sum(basevolume) base_volume,\n",
    "    max(closetime) close_time,\n",
    "    sum(quotevolume) quote_volume,\n",
    "    sum(numbertrades) number_trades,\n",
    "    sum(takerbuybase) taker_buybase,\n",
    "    sum(takerbuyquote) taker_quote\n",
    "    FROM candlestickhistorical\n",
    "    GROUP BY open_time ORDER BY open_time;\n",
    "    ''', connection)"
   ]
  },
  {
   "cell_type": "code",
   "execution_count": 7,
   "id": "960ea8a7-c865-42b0-9945-207b808eb1ea",
   "metadata": {},
   "outputs": [
    {
     "name": "stdout",
     "output_type": "stream",
     "text": [
      "<class 'pandas.core.frame.DataFrame'>\n",
      "RangeIndex: 598153 entries, 0 to 598152\n",
      "Data columns (total 11 columns):\n",
      " #   Column         Non-Null Count   Dtype         \n",
      "---  ------         --------------   -----         \n",
      " 0   open_time      598153 non-null  datetime64[ns]\n",
      " 1   opentime       598153 non-null  float64       \n",
      " 2   highprice      598153 non-null  float64       \n",
      " 3   low_price      598153 non-null  float64       \n",
      " 4   close_price    598153 non-null  float64       \n",
      " 5   base_volume    598153 non-null  float64       \n",
      " 6   close_time     598153 non-null  datetime64[ns]\n",
      " 7   quote_volume   598153 non-null  float64       \n",
      " 8   number_trades  598153 non-null  float64       \n",
      " 9   taker_buybase  598153 non-null  float64       \n",
      " 10  taker_quote    598153 non-null  float64       \n",
      "dtypes: datetime64[ns](2), float64(9)\n",
      "memory usage: 50.2 MB\n",
      "None\n"
     ]
    }
   ],
   "source": [
    "print(df.info())"
   ]
  },
  {
   "cell_type": "code",
   "execution_count": 8,
   "id": "d5fa766d-be4e-4094-a66e-db15a452152d",
   "metadata": {},
   "outputs": [
    {
     "data": {
      "text/html": [
       "<div>\n",
       "<style scoped>\n",
       "    .dataframe tbody tr th:only-of-type {\n",
       "        vertical-align: middle;\n",
       "    }\n",
       "\n",
       "    .dataframe tbody tr th {\n",
       "        vertical-align: top;\n",
       "    }\n",
       "\n",
       "    .dataframe thead th {\n",
       "        text-align: right;\n",
       "    }\n",
       "</style>\n",
       "<table border=\"1\" class=\"dataframe\">\n",
       "  <thead>\n",
       "    <tr style=\"text-align: right;\">\n",
       "      <th></th>\n",
       "      <th>open_time</th>\n",
       "      <th>opentime</th>\n",
       "      <th>highprice</th>\n",
       "      <th>low_price</th>\n",
       "      <th>close_price</th>\n",
       "      <th>base_volume</th>\n",
       "      <th>close_time</th>\n",
       "      <th>quote_volume</th>\n",
       "      <th>number_trades</th>\n",
       "      <th>taker_buybase</th>\n",
       "      <th>taker_quote</th>\n",
       "    </tr>\n",
       "  </thead>\n",
       "  <tbody>\n",
       "    <tr>\n",
       "      <th>0</th>\n",
       "      <td>2017-08-17 04:00:00</td>\n",
       "      <td>4261.48</td>\n",
       "      <td>4280.56</td>\n",
       "      <td>4261.48</td>\n",
       "      <td>4261.48</td>\n",
       "      <td>2.189061</td>\n",
       "      <td>2017-08-17 04:04:59</td>\n",
       "      <td>9333.620962</td>\n",
       "      <td>9.0</td>\n",
       "      <td>0.489061</td>\n",
       "      <td>2089.104962</td>\n",
       "    </tr>\n",
       "    <tr>\n",
       "      <th>1</th>\n",
       "      <td>2017-08-17 04:05:00</td>\n",
       "      <td>4261.48</td>\n",
       "      <td>4261.48</td>\n",
       "      <td>4261.48</td>\n",
       "      <td>4261.48</td>\n",
       "      <td>0.000000</td>\n",
       "      <td>2017-08-17 04:09:59</td>\n",
       "      <td>0.000000</td>\n",
       "      <td>0.0</td>\n",
       "      <td>0.000000</td>\n",
       "      <td>0.000000</td>\n",
       "    </tr>\n",
       "    <tr>\n",
       "      <th>2</th>\n",
       "      <td>2017-08-17 04:10:00</td>\n",
       "      <td>4261.48</td>\n",
       "      <td>4261.48</td>\n",
       "      <td>4261.48</td>\n",
       "      <td>4261.48</td>\n",
       "      <td>0.000000</td>\n",
       "      <td>2017-08-17 04:14:59</td>\n",
       "      <td>0.000000</td>\n",
       "      <td>0.0</td>\n",
       "      <td>0.000000</td>\n",
       "      <td>0.000000</td>\n",
       "    </tr>\n",
       "    <tr>\n",
       "      <th>3</th>\n",
       "      <td>2017-08-17 04:15:00</td>\n",
       "      <td>4261.48</td>\n",
       "      <td>4264.88</td>\n",
       "      <td>4261.48</td>\n",
       "      <td>4261.48</td>\n",
       "      <td>0.484666</td>\n",
       "      <td>2017-08-17 04:19:59</td>\n",
       "      <td>2065.447829</td>\n",
       "      <td>9.0</td>\n",
       "      <td>0.085455</td>\n",
       "      <td>364.218136</td>\n",
       "    </tr>\n",
       "    <tr>\n",
       "      <th>4</th>\n",
       "      <td>2017-08-17 04:20:00</td>\n",
       "      <td>4264.88</td>\n",
       "      <td>4266.29</td>\n",
       "      <td>4264.88</td>\n",
       "      <td>4266.29</td>\n",
       "      <td>2.328570</td>\n",
       "      <td>2017-08-17 04:24:59</td>\n",
       "      <td>9931.161124</td>\n",
       "      <td>11.0</td>\n",
       "      <td>1.546491</td>\n",
       "      <td>6595.688039</td>\n",
       "    </tr>\n",
       "  </tbody>\n",
       "</table>\n",
       "</div>"
      ],
      "text/plain": [
       "            open_time  opentime  highprice  low_price  close_price   \n",
       "0 2017-08-17 04:00:00   4261.48    4280.56    4261.48      4261.48  \\\n",
       "1 2017-08-17 04:05:00   4261.48    4261.48    4261.48      4261.48   \n",
       "2 2017-08-17 04:10:00   4261.48    4261.48    4261.48      4261.48   \n",
       "3 2017-08-17 04:15:00   4261.48    4264.88    4261.48      4261.48   \n",
       "4 2017-08-17 04:20:00   4264.88    4266.29    4264.88      4266.29   \n",
       "\n",
       "   base_volume          close_time  quote_volume  number_trades   \n",
       "0     2.189061 2017-08-17 04:04:59   9333.620962            9.0  \\\n",
       "1     0.000000 2017-08-17 04:09:59      0.000000            0.0   \n",
       "2     0.000000 2017-08-17 04:14:59      0.000000            0.0   \n",
       "3     0.484666 2017-08-17 04:19:59   2065.447829            9.0   \n",
       "4     2.328570 2017-08-17 04:24:59   9931.161124           11.0   \n",
       "\n",
       "   taker_buybase  taker_quote  \n",
       "0       0.489061  2089.104962  \n",
       "1       0.000000     0.000000  \n",
       "2       0.000000     0.000000  \n",
       "3       0.085455   364.218136  \n",
       "4       1.546491  6595.688039  "
      ]
     },
     "execution_count": 8,
     "metadata": {},
     "output_type": "execute_result"
    }
   ],
   "source": [
    "df.head()"
   ]
  },
  {
   "cell_type": "code",
   "execution_count": 9,
   "id": "f035232b-78bf-4826-803f-099f339634c9",
   "metadata": {},
   "outputs": [
    {
     "data": {
      "text/plain": [
       "open_time        0\n",
       "opentime         0\n",
       "highprice        0\n",
       "low_price        0\n",
       "close_price      0\n",
       "base_volume      0\n",
       "close_time       0\n",
       "quote_volume     0\n",
       "number_trades    0\n",
       "taker_buybase    0\n",
       "taker_quote      0\n",
       "dtype: int64"
      ]
     },
     "execution_count": 9,
     "metadata": {},
     "output_type": "execute_result"
    }
   ],
   "source": [
    "df.isnull().sum()"
   ]
  },
  {
   "cell_type": "code",
   "execution_count": null,
   "id": "cde8efbe-e99a-4173-9369-c8fc2b98ae3c",
   "metadata": {},
   "outputs": [],
   "source": []
  }
 ],
 "metadata": {
  "kernelspec": {
   "display_name": "Python 3 (ipykernel)",
   "language": "python",
   "name": "python3"
  },
  "language_info": {
   "codemirror_mode": {
    "name": "ipython",
    "version": 3
   },
   "file_extension": ".py",
   "mimetype": "text/x-python",
   "name": "python",
   "nbconvert_exporter": "python",
   "pygments_lexer": "ipython3",
   "version": "3.11.2"
  }
 },
 "nbformat": 4,
 "nbformat_minor": 5
}
